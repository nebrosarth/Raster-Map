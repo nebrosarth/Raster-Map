{
 "cells": [
  {
   "cell_type": "code",
   "execution_count": 1,
   "id": "initial_id",
   "metadata": {
    "collapsed": true,
    "ExecuteTime": {
     "end_time": "2024-03-13T19:35:32.500859Z",
     "start_time": "2024-03-13T19:35:30.322458Z"
    }
   },
   "outputs": [
    {
     "name": "stdout",
     "output_type": "stream",
     "text": [
      "--FF\n",
      "--FF\n"
     ]
    }
   ],
   "source": [
    "from T_UNet_A import t_unet_a\n",
    "from T_UNet_A_D import t_unet_a_d\n",
    "from T_UNet_A_D_AS import t_unet_a_d_as\n",
    "from U_Net import u_net\n",
    "from U_Net_D import u_net_d\n",
    "from loss import dice_loss\n",
    "from dataloader import get_data\n"
   ]
  },
  {
   "cell_type": "code",
   "outputs": [],
   "source": [
    "model = t_unet_a_d_as('adam', (256, 256, 1), dice_loss)"
   ],
   "metadata": {
    "collapsed": false,
    "ExecuteTime": {
     "end_time": "2024-03-13T19:35:33.305760Z",
     "start_time": "2024-03-13T19:35:32.501871Z"
    }
   },
   "id": "fb80e84307bfdd02",
   "execution_count": 2
  },
  {
   "cell_type": "code",
   "outputs": [
    {
     "name": "stdout",
     "output_type": "stream",
     "text": [
      "Getting and resizing images ... \n"
     ]
    },
    {
     "data": {
      "text/plain": "  0%|          | 0/1190 [00:00<?, ?it/s]",
      "application/vnd.jupyter.widget-view+json": {
       "version_major": 2,
       "version_minor": 0,
       "model_id": "e6ca7b39b2974f519d79c9eade312e70"
      }
     },
     "metadata": {},
     "output_type": "display_data"
    },
    {
     "name": "stderr",
     "output_type": "stream",
     "text": [
      "C:\\python3.10\\lib\\site-packages\\keras\\utils\\image_utils.py:409: UserWarning: grayscale is deprecated. Please use color_mode = \"grayscale\"\n",
      "  warnings.warn(\n"
     ]
    },
    {
     "name": "stdout",
     "output_type": "stream",
     "text": [
      "Done!\n"
     ]
    }
   ],
   "source": [
    "X, y = get_data('../training_dataset/tianditu/', train=True)"
   ],
   "metadata": {
    "collapsed": false,
    "ExecuteTime": {
     "end_time": "2024-03-13T19:35:43.170923Z",
     "start_time": "2024-03-13T19:35:33.306779Z"
    }
   },
   "id": "cebc2eafa3453c14",
   "execution_count": 3
  },
  {
   "cell_type": "code",
   "outputs": [
    {
     "name": "stdout",
     "output_type": "stream",
     "text": [
      "Epoch 1/10\n",
      "119/119 [==============================] - 12s 62ms/step - loss: 0.3108 - dsc: 0.6892 - tp: 0.8163 - tn: 0.9784 - prec: 0.7828 - recall: 0.6711\n",
      "Epoch 2/10\n",
      "119/119 [==============================] - 7s 55ms/step - loss: 0.1641 - dsc: 0.8359 - tp: 0.8483 - tn: 0.9958 - prec: 0.8243 - recall: 0.8518\n",
      "Epoch 3/10\n",
      "119/119 [==============================] - 6s 54ms/step - loss: 0.1420 - dsc: 0.8580 - tp: 0.8644 - tn: 0.9966 - prec: 0.8422 - recall: 0.8773\n",
      "Epoch 4/10\n",
      "119/119 [==============================] - 6s 54ms/step - loss: 0.1303 - dsc: 0.8697 - tp: 0.8726 - tn: 0.9970 - prec: 0.8517 - recall: 0.8909\n",
      "Epoch 5/10\n",
      "119/119 [==============================] - 6s 51ms/step - loss: 0.1239 - dsc: 0.8761 - tp: 0.8786 - tn: 0.9971 - prec: 0.8581 - recall: 0.8974\n",
      "Epoch 6/10\n",
      "119/119 [==============================] - 6s 51ms/step - loss: 0.1286 - dsc: 0.8714 - tp: 0.8749 - tn: 0.9970 - prec: 0.8548 - recall: 0.8918\n",
      "Epoch 7/10\n",
      "119/119 [==============================] - 6s 51ms/step - loss: 0.1209 - dsc: 0.8791 - tp: 0.8833 - tn: 0.9971 - prec: 0.8633 - recall: 0.8977\n",
      "Epoch 8/10\n",
      "119/119 [==============================] - 6s 51ms/step - loss: 0.1095 - dsc: 0.8905 - tp: 0.8902 - tn: 0.9976 - prec: 0.8706 - recall: 0.9125\n",
      "Epoch 9/10\n",
      "119/119 [==============================] - 6s 51ms/step - loss: 0.1082 - dsc: 0.8918 - tp: 0.8921 - tn: 0.9976 - prec: 0.8730 - recall: 0.9131\n",
      "Epoch 10/10\n",
      "119/119 [==============================] - 6s 51ms/step - loss: 0.1065 - dsc: 0.8935 - tp: 0.8941 - tn: 0.9976 - prec: 0.8749 - recall: 0.9147\n"
     ]
    },
    {
     "data": {
      "text/plain": "<keras.callbacks.History at 0x274195449d0>"
     },
     "execution_count": 4,
     "metadata": {},
     "output_type": "execute_result"
    }
   ],
   "source": [
    "model.fit(X, y, epochs=10, batch_size=10)"
   ],
   "metadata": {
    "collapsed": false,
    "ExecuteTime": {
     "end_time": "2024-03-13T19:36:51.736251Z",
     "start_time": "2024-03-13T19:35:43.171944Z"
    }
   },
   "id": "9fe87034e1c0b512",
   "execution_count": 4
  },
  {
   "cell_type": "code",
   "outputs": [
    {
     "name": "stdout",
     "output_type": "stream",
     "text": [
      "Getting and resizing images ... \n"
     ]
    },
    {
     "data": {
      "text/plain": "  0%|          | 0/40 [00:00<?, ?it/s]",
      "application/vnd.jupyter.widget-view+json": {
       "version_major": 2,
       "version_minor": 0,
       "model_id": "f9b34c29fd5b4e048dfa8b69e7f40bfc"
      }
     },
     "metadata": {},
     "output_type": "display_data"
    },
    {
     "name": "stdout",
     "output_type": "stream",
     "text": [
      "Done!\n"
     ]
    }
   ],
   "source": [
    "test_images, test_masks = get_data('../training_dataset/tianditu/test/', train=True)"
   ],
   "metadata": {
    "collapsed": false,
    "ExecuteTime": {
     "end_time": "2024-03-13T19:36:52.081431Z",
     "start_time": "2024-03-13T19:36:51.737288Z"
    }
   },
   "id": "317efa68cffc86e8",
   "execution_count": 5
  },
  {
   "cell_type": "code",
   "outputs": [
    {
     "name": "stdout",
     "output_type": "stream",
     "text": [
      "2/2 [==============================] - 1s 162ms/step - loss: 0.0782 - dsc: 0.9240 - tp: 0.9362 - tn: 0.9969 - prec: 0.9178 - recall: 0.9306\n"
     ]
    },
    {
     "data": {
      "text/plain": "[0.07817722856998444,\n 0.9239804148674011,\n 0.9361828565597534,\n 0.9968923330307007,\n 0.9177883863449097,\n 0.930600643157959]"
     },
     "execution_count": 6,
     "metadata": {},
     "output_type": "execute_result"
    }
   ],
   "source": [
    "model.evaluate(test_images, test_masks)"
   ],
   "metadata": {
    "collapsed": false,
    "ExecuteTime": {
     "end_time": "2024-03-13T19:36:53.238613Z",
     "start_time": "2024-03-13T19:36:52.082435Z"
    }
   },
   "id": "e510937fac0fbc9",
   "execution_count": 6
  },
  {
   "cell_type": "code",
   "outputs": [
    {
     "name": "stdout",
     "output_type": "stream",
     "text": [
      "Epoch 1/10\n",
      "119/119 [==============================] - 6s 52ms/step - loss: 0.1034 - dsc: 0.8966 - tp: 0.8957 - tn: 0.9977 - prec: 0.8769 - recall: 0.9187\n",
      "Epoch 2/10\n",
      "119/119 [==============================] - 6s 51ms/step - loss: 0.1008 - dsc: 0.8992 - tp: 0.8967 - tn: 0.9979 - prec: 0.8780 - recall: 0.9227\n",
      "Epoch 3/10\n",
      "119/119 [==============================] - 6s 52ms/step - loss: 0.0986 - dsc: 0.9014 - tp: 0.8995 - tn: 0.9979 - prec: 0.8809 - recall: 0.9245\n",
      "Epoch 4/10\n",
      "119/119 [==============================] - 6s 52ms/step - loss: 0.0985 - dsc: 0.9015 - tp: 0.8992 - tn: 0.9979 - prec: 0.8809 - recall: 0.9245\n",
      "Epoch 5/10\n",
      "119/119 [==============================] - 6s 52ms/step - loss: 0.0955 - dsc: 0.9045 - tp: 0.9016 - tn: 0.9980 - prec: 0.8833 - recall: 0.9278\n",
      "Epoch 6/10\n",
      "119/119 [==============================] - 6s 52ms/step - loss: 0.0984 - dsc: 0.9016 - tp: 0.8987 - tn: 0.9979 - prec: 0.8805 - recall: 0.9251\n",
      "Epoch 7/10\n",
      "119/119 [==============================] - 6s 51ms/step - loss: 0.0944 - dsc: 0.9056 - tp: 0.9029 - tn: 0.9980 - prec: 0.8847 - recall: 0.9286\n",
      "Epoch 8/10\n",
      "119/119 [==============================] - 6s 51ms/step - loss: 0.0927 - dsc: 0.9073 - tp: 0.9030 - tn: 0.9981 - prec: 0.8848 - recall: 0.9321\n",
      "Epoch 9/10\n",
      "119/119 [==============================] - 6s 52ms/step - loss: 0.0916 - dsc: 0.9084 - tp: 0.9047 - tn: 0.9981 - prec: 0.8868 - recall: 0.9321\n",
      "Epoch 10/10\n",
      "119/119 [==============================] - 6s 52ms/step - loss: 0.0902 - dsc: 0.9098 - tp: 0.9073 - tn: 0.9981 - prec: 0.8893 - recall: 0.9326\n"
     ]
    },
    {
     "data": {
      "text/plain": "<keras.callbacks.History at 0x274ba7f1900>"
     },
     "execution_count": 7,
     "metadata": {},
     "output_type": "execute_result"
    }
   ],
   "source": [
    "model.fit(X, y, epochs=10, batch_size=10)"
   ],
   "metadata": {
    "collapsed": false,
    "ExecuteTime": {
     "end_time": "2024-03-13T19:37:55.012582Z",
     "start_time": "2024-03-13T19:36:53.238613Z"
    }
   },
   "id": "59b5872299f38ccf",
   "execution_count": 7
  },
  {
   "cell_type": "code",
   "outputs": [
    {
     "name": "stdout",
     "output_type": "stream",
     "text": [
      "2/2 [==============================] - 0s 15ms/step - loss: 0.0722 - dsc: 0.9290 - tp: 0.9399 - tn: 0.9971 - prec: 0.9226 - recall: 0.9357\n"
     ]
    },
    {
     "data": {
      "text/plain": "[0.07217679917812347,\n 0.9290226101875305,\n 0.9399346113204956,\n 0.9971001148223877,\n 0.9225733280181885,\n 0.9357415437698364]"
     },
     "execution_count": 8,
     "metadata": {},
     "output_type": "execute_result"
    }
   ],
   "source": [
    "model.evaluate(test_images, test_masks)"
   ],
   "metadata": {
    "collapsed": false,
    "ExecuteTime": {
     "end_time": "2024-03-13T19:37:55.140141Z",
     "start_time": "2024-03-13T19:37:55.013582Z"
    }
   },
   "id": "e7427f9c26915de3",
   "execution_count": 8
  },
  {
   "cell_type": "code",
   "outputs": [
    {
     "name": "stdout",
     "output_type": "stream",
     "text": [
      "Epoch 1/20\n",
      "119/119 [==============================] - 6s 52ms/step - loss: 0.0910 - dsc: 0.9090 - tp: 0.9058 - tn: 0.9981 - prec: 0.8878 - recall: 0.9323\n",
      "Epoch 2/20\n",
      "119/119 [==============================] - 6s 50ms/step - loss: 0.0894 - dsc: 0.9106 - tp: 0.9066 - tn: 0.9982 - prec: 0.8888 - recall: 0.9346\n",
      "Epoch 3/20\n",
      "119/119 [==============================] - 6s 49ms/step - loss: 0.0878 - dsc: 0.9122 - tp: 0.9078 - tn: 0.9982 - prec: 0.8900 - recall: 0.9366\n",
      "Epoch 4/20\n",
      "119/119 [==============================] - 6s 49ms/step - loss: 0.0861 - dsc: 0.9139 - tp: 0.9095 - tn: 0.9983 - prec: 0.8918 - recall: 0.9384\n",
      "Epoch 5/20\n",
      "119/119 [==============================] - 6s 50ms/step - loss: 0.0861 - dsc: 0.9139 - tp: 0.9098 - tn: 0.9983 - prec: 0.8921 - recall: 0.9376\n",
      "Epoch 6/20\n",
      "119/119 [==============================] - 6s 52ms/step - loss: 0.0839 - dsc: 0.9161 - tp: 0.9121 - tn: 0.9983 - prec: 0.8944 - recall: 0.9398\n",
      "Epoch 7/20\n",
      "119/119 [==============================] - 7s 59ms/step - loss: 0.0854 - dsc: 0.9146 - tp: 0.9101 - tn: 0.9983 - prec: 0.8924 - recall: 0.9389\n",
      "Epoch 8/20\n",
      "119/119 [==============================] - 7s 55ms/step - loss: 0.0845 - dsc: 0.9155 - tp: 0.9106 - tn: 0.9983 - prec: 0.8930 - recall: 0.9400\n",
      "Epoch 9/20\n",
      "119/119 [==============================] - 6s 53ms/step - loss: 0.0847 - dsc: 0.9153 - tp: 0.9108 - tn: 0.9983 - prec: 0.8932 - recall: 0.9399\n",
      "Epoch 10/20\n",
      "119/119 [==============================] - 6s 51ms/step - loss: 0.0845 - dsc: 0.9155 - tp: 0.9106 - tn: 0.9983 - prec: 0.8929 - recall: 0.9404\n",
      "Epoch 11/20\n",
      "119/119 [==============================] - 6s 51ms/step - loss: 0.0820 - dsc: 0.9180 - tp: 0.9133 - tn: 0.9984 - prec: 0.8959 - recall: 0.9422\n",
      "Epoch 12/20\n",
      "119/119 [==============================] - 6s 51ms/step - loss: 0.0817 - dsc: 0.9183 - tp: 0.9141 - tn: 0.9984 - prec: 0.8967 - recall: 0.9418\n",
      "Epoch 13/20\n",
      "119/119 [==============================] - 6s 51ms/step - loss: 0.0849 - dsc: 0.9151 - tp: 0.9105 - tn: 0.9983 - prec: 0.8931 - recall: 0.9395\n",
      "Epoch 14/20\n",
      "119/119 [==============================] - 6s 51ms/step - loss: 0.0800 - dsc: 0.9200 - tp: 0.9148 - tn: 0.9985 - prec: 0.8974 - recall: 0.9444\n",
      "Epoch 15/20\n",
      "119/119 [==============================] - 6s 51ms/step - loss: 0.0783 - dsc: 0.9217 - tp: 0.9174 - tn: 0.9985 - prec: 0.9000 - recall: 0.9452\n",
      "Epoch 16/20\n",
      "119/119 [==============================] - 6s 51ms/step - loss: 0.0793 - dsc: 0.9207 - tp: 0.9163 - tn: 0.9985 - prec: 0.8990 - recall: 0.9442\n",
      "Epoch 17/20\n",
      "119/119 [==============================] - 6s 51ms/step - loss: 0.0811 - dsc: 0.9189 - tp: 0.9145 - tn: 0.9984 - prec: 0.8972 - recall: 0.9426\n",
      "Epoch 18/20\n",
      "119/119 [==============================] - 6s 51ms/step - loss: 0.0804 - dsc: 0.9196 - tp: 0.9157 - tn: 0.9984 - prec: 0.8985 - recall: 0.9425\n",
      "Epoch 19/20\n",
      "119/119 [==============================] - 6s 51ms/step - loss: 0.0811 - dsc: 0.9189 - tp: 0.9140 - tn: 0.9984 - prec: 0.8967 - recall: 0.9434\n",
      "Epoch 20/20\n",
      "119/119 [==============================] - 6s 51ms/step - loss: 0.0781 - dsc: 0.9219 - tp: 0.9175 - tn: 0.9985 - prec: 0.9002 - recall: 0.9455\n"
     ]
    },
    {
     "data": {
      "text/plain": "<keras.callbacks.History at 0x274ba82ffa0>"
     },
     "execution_count": 9,
     "metadata": {},
     "output_type": "execute_result"
    }
   ],
   "source": [
    "model.fit(X, y, epochs=20, batch_size=10)"
   ],
   "metadata": {
    "collapsed": false,
    "ExecuteTime": {
     "end_time": "2024-03-13T19:39:58.285701Z",
     "start_time": "2024-03-13T19:37:55.141141Z"
    }
   },
   "id": "32a3fd0c187ff896",
   "execution_count": 9
  },
  {
   "cell_type": "code",
   "outputs": [
    {
     "name": "stdout",
     "output_type": "stream",
     "text": [
      "2/2 [==============================] - 0s 14ms/step - loss: 0.0751 - dsc: 0.9248 - tp: 0.9610 - tn: 0.9954 - prec: 0.9439 - recall: 0.9070\n"
     ]
    },
    {
     "data": {
      "text/plain": "[0.07513962686061859,\n 0.9248442053794861,\n 0.9609512090682983,\n 0.9953933954238892,\n 0.9438753724098206,\n 0.9069510698318481]"
     },
     "execution_count": 10,
     "metadata": {},
     "output_type": "execute_result"
    }
   ],
   "source": [
    "model.evaluate(test_images, test_masks)"
   ],
   "metadata": {
    "collapsed": false,
    "ExecuteTime": {
     "end_time": "2024-03-13T19:39:58.422862Z",
     "start_time": "2024-03-13T19:39:58.286988Z"
    }
   },
   "id": "4f4281ac1fb048cf",
   "execution_count": 10
  },
  {
   "cell_type": "code",
   "outputs": [
    {
     "name": "stdout",
     "output_type": "stream",
     "text": [
      "Epoch 1/20\n",
      "119/119 [==============================] - 6s 54ms/step - loss: 0.0701 - dsc: 0.9299 - tp: 0.9276 - tn: 0.9986 - prec: 0.9106 - recall: 0.9505\n",
      "Epoch 2/20\n",
      "119/119 [==============================] - 6s 54ms/step - loss: 0.0720 - dsc: 0.9280 - tp: 0.9263 - tn: 0.9985 - prec: 0.9093 - recall: 0.9480\n",
      "Epoch 3/20\n",
      "119/119 [==============================] - 6s 54ms/step - loss: 0.0695 - dsc: 0.9305 - tp: 0.9282 - tn: 0.9986 - prec: 0.9113 - recall: 0.9510\n",
      "Epoch 4/20\n",
      "119/119 [==============================] - 6s 55ms/step - loss: 0.0686 - dsc: 0.9314 - tp: 0.9286 - tn: 0.9987 - prec: 0.9116 - recall: 0.9525\n",
      "Epoch 5/20\n",
      "119/119 [==============================] - 7s 57ms/step - loss: 0.0693 - dsc: 0.9307 - tp: 0.9284 - tn: 0.9986 - prec: 0.9114 - recall: 0.9514\n",
      "Epoch 6/20\n",
      "119/119 [==============================] - 7s 56ms/step - loss: 0.0689 - dsc: 0.9311 - tp: 0.9290 - tn: 0.9986 - prec: 0.9121 - recall: 0.9516\n",
      "Epoch 7/20\n",
      "119/119 [==============================] - 7s 55ms/step - loss: 0.0696 - dsc: 0.9304 - tp: 0.9286 - tn: 0.9986 - prec: 0.9116 - recall: 0.9505\n",
      "Epoch 8/20\n",
      "119/119 [==============================] - 7s 57ms/step - loss: 0.0688 - dsc: 0.9312 - tp: 0.9291 - tn: 0.9986 - prec: 0.9121 - recall: 0.9516\n",
      "Epoch 9/20\n",
      "119/119 [==============================] - 6s 54ms/step - loss: 0.0693 - dsc: 0.9307 - tp: 0.9280 - tn: 0.9986 - prec: 0.9111 - recall: 0.9517\n",
      "Epoch 10/20\n",
      "119/119 [==============================] - 6s 54ms/step - loss: 0.0678 - dsc: 0.9322 - tp: 0.9307 - tn: 0.9986 - prec: 0.9137 - recall: 0.9518\n",
      "Epoch 11/20\n",
      "119/119 [==============================] - 6s 53ms/step - loss: 0.0682 - dsc: 0.9318 - tp: 0.9286 - tn: 0.9987 - prec: 0.9117 - recall: 0.9532\n",
      "Epoch 12/20\n",
      "119/119 [==============================] - 6s 54ms/step - loss: 0.0680 - dsc: 0.9320 - tp: 0.9306 - tn: 0.9986 - prec: 0.9136 - recall: 0.9516\n",
      "Epoch 13/20\n",
      "119/119 [==============================] - 6s 54ms/step - loss: 0.0693 - dsc: 0.9307 - tp: 0.9285 - tn: 0.9986 - prec: 0.9116 - recall: 0.9515\n",
      "Epoch 14/20\n",
      "119/119 [==============================] - 6s 53ms/step - loss: 0.0679 - dsc: 0.9321 - tp: 0.9305 - tn: 0.9986 - prec: 0.9134 - recall: 0.9519\n",
      "Epoch 15/20\n",
      "119/119 [==============================] - 6s 52ms/step - loss: 0.0668 - dsc: 0.9332 - tp: 0.9322 - tn: 0.9987 - prec: 0.9151 - recall: 0.9524\n",
      "Epoch 16/20\n",
      "119/119 [==============================] - 6s 52ms/step - loss: 0.0676 - dsc: 0.9324 - tp: 0.9294 - tn: 0.9987 - prec: 0.9124 - recall: 0.9538\n",
      "Epoch 17/20\n",
      "119/119 [==============================] - 6s 52ms/step - loss: 0.0682 - dsc: 0.9318 - tp: 0.9296 - tn: 0.9986 - prec: 0.9127 - recall: 0.9523\n",
      "Epoch 18/20\n",
      "119/119 [==============================] - 6s 52ms/step - loss: 0.0671 - dsc: 0.9329 - tp: 0.9313 - tn: 0.9987 - prec: 0.9142 - recall: 0.9528\n",
      "Epoch 19/20\n",
      "119/119 [==============================] - 6s 52ms/step - loss: 0.0681 - dsc: 0.9319 - tp: 0.9296 - tn: 0.9987 - prec: 0.9127 - recall: 0.9526\n",
      "Epoch 20/20\n",
      "119/119 [==============================] - 6s 53ms/step - loss: 0.0677 - dsc: 0.9323 - tp: 0.9300 - tn: 0.9987 - prec: 0.9130 - recall: 0.9530\n"
     ]
    },
    {
     "data": {
      "text/plain": "<keras.callbacks.History at 0x27501d875b0>"
     },
     "execution_count": 16,
     "metadata": {},
     "output_type": "execute_result"
    }
   ],
   "source": [
    "model.fit(X, y, epochs=20, batch_size=10)"
   ],
   "metadata": {
    "collapsed": false,
    "ExecuteTime": {
     "end_time": "2024-03-13T19:47:10.694640Z",
     "start_time": "2024-03-13T19:44:48.266974Z"
    }
   },
   "id": "a576e8f62e93cbe9",
   "execution_count": 16
  },
  {
   "cell_type": "code",
   "outputs": [
    {
     "name": "stdout",
     "output_type": "stream",
     "text": [
      "2/2 [==============================] - 0s 16ms/step - loss: 0.0589 - dsc: 0.9430 - tp: 0.9631 - tn: 0.9971 - prec: 0.9464 - recall: 0.9397\n"
     ]
    },
    {
     "data": {
      "text/plain": "[0.058915235102176666,\n 0.9430023431777954,\n 0.963096022605896,\n 0.9971495866775513,\n 0.9464330673217773,\n 0.9396862983703613]"
     },
     "execution_count": 17,
     "metadata": {},
     "output_type": "execute_result"
    }
   ],
   "source": [
    "model.evaluate(test_images, test_masks)"
   ],
   "metadata": {
    "collapsed": false,
    "ExecuteTime": {
     "end_time": "2024-03-13T19:47:18.658785Z",
     "start_time": "2024-03-13T19:47:18.294802Z"
    }
   },
   "id": "5fa2196ff7618ac9",
   "execution_count": 17
  },
  {
   "cell_type": "code",
   "outputs": [],
   "source": [
    "model.save('../model_2/unet_a_d_aspp2.h5')"
   ],
   "metadata": {
    "collapsed": false,
    "ExecuteTime": {
     "end_time": "2024-03-13T19:47:34.142407Z",
     "start_time": "2024-03-13T19:47:33.941868Z"
    }
   },
   "id": "bac7244b07bd3c06",
   "execution_count": 18
  }
 ],
 "metadata": {
  "kernelspec": {
   "display_name": "Python 3",
   "language": "python",
   "name": "python3"
  },
  "language_info": {
   "codemirror_mode": {
    "name": "ipython",
    "version": 2
   },
   "file_extension": ".py",
   "mimetype": "text/x-python",
   "name": "python",
   "nbconvert_exporter": "python",
   "pygments_lexer": "ipython2",
   "version": "2.7.6"
  }
 },
 "nbformat": 4,
 "nbformat_minor": 5
}
