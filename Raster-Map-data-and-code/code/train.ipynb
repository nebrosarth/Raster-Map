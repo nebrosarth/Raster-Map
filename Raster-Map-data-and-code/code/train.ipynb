{
 "cells": [
  {
   "cell_type": "code",
   "execution_count": 32,
   "id": "initial_id",
   "metadata": {
    "collapsed": true,
    "ExecuteTime": {
     "end_time": "2024-03-13T14:48:23.433016Z",
     "start_time": "2024-03-13T14:48:23.419365Z"
    }
   },
   "outputs": [
    {
     "name": "stdout",
     "output_type": "stream",
     "text": [
      "--FF\n"
     ]
    }
   ],
   "source": [
    "from U_Net import u_net\n",
    "from T_UNet_A_D_AS import t_unet_a_d_as\n",
    "from loss import dice_loss\n",
    "from dataloader import get_data\n"
   ]
  },
  {
   "cell_type": "code",
   "outputs": [],
   "source": [
    "model = t_unet_a_d_as('adam', (256, 256, 1), dice_loss)"
   ],
   "metadata": {
    "collapsed": false,
    "ExecuteTime": {
     "end_time": "2024-03-13T14:48:25.190440Z",
     "start_time": "2024-03-13T14:48:23.434016Z"
    }
   },
   "id": "fb80e84307bfdd02",
   "execution_count": 33
  },
  {
   "cell_type": "code",
   "outputs": [
    {
     "name": "stdout",
     "output_type": "stream",
     "text": [
      "Getting and resizing images ... \n"
     ]
    },
    {
     "data": {
      "text/plain": "  0%|          | 0/1190 [00:00<?, ?it/s]",
      "application/vnd.jupyter.widget-view+json": {
       "version_major": 2,
       "version_minor": 0,
       "model_id": "09987cf047094b6cb3bdbb3e68deb902"
      }
     },
     "metadata": {},
     "output_type": "display_data"
    },
    {
     "name": "stderr",
     "output_type": "stream",
     "text": [
      "C:\\python3.10\\lib\\site-packages\\keras\\utils\\image_utils.py:409: UserWarning: grayscale is deprecated. Please use color_mode = \"grayscale\"\n",
      "  warnings.warn(\n"
     ]
    },
    {
     "name": "stdout",
     "output_type": "stream",
     "text": [
      "Done!\n"
     ]
    }
   ],
   "source": [
    "X, y = get_data('../training_dataset/tianditu/', train=True)"
   ],
   "metadata": {
    "collapsed": false,
    "ExecuteTime": {
     "end_time": "2024-03-13T14:48:34.562852Z",
     "start_time": "2024-03-13T14:48:25.191440Z"
    }
   },
   "id": "cebc2eafa3453c14",
   "execution_count": 34
  },
  {
   "cell_type": "code",
   "outputs": [
    {
     "name": "stdout",
     "output_type": "stream",
     "text": [
      "Epoch 1/10\n",
      "119/119 [==============================] - 11s 71ms/step - loss: 0.3733 - dsc: 0.6267 - tp: 0.8306 - tn: 0.9352 - prec: 0.8067 - recall: 0.6024\n",
      "Epoch 2/10\n",
      "119/119 [==============================] - 9s 71ms/step - loss: 0.1583 - dsc: 0.8417 - tp: 0.8538 - tn: 0.9959 - prec: 0.8313 - recall: 0.8560\n",
      "Epoch 3/10\n",
      "119/119 [==============================] - 8s 70ms/step - loss: 0.1387 - dsc: 0.8613 - tp: 0.8662 - tn: 0.9967 - prec: 0.8453 - recall: 0.8814\n",
      "Epoch 4/10\n",
      "119/119 [==============================] - 8s 69ms/step - loss: 0.1311 - dsc: 0.8689 - tp: 0.8735 - tn: 0.9968 - prec: 0.8532 - recall: 0.8879\n",
      "Epoch 5/10\n",
      "119/119 [==============================] - 9s 78ms/step - loss: 0.1224 - dsc: 0.8776 - tp: 0.8828 - tn: 0.9971 - prec: 0.8630 - recall: 0.8968\n",
      "Epoch 6/10\n",
      "119/119 [==============================] - 9s 77ms/step - loss: 0.1243 - dsc: 0.8757 - tp: 0.8795 - tn: 0.9970 - prec: 0.8599 - recall: 0.8947\n",
      "Epoch 7/10\n",
      "119/119 [==============================] - 9s 75ms/step - loss: 0.1143 - dsc: 0.8857 - tp: 0.8865 - tn: 0.9974 - prec: 0.8673 - recall: 0.9072\n",
      "Epoch 8/10\n",
      "119/119 [==============================] - 9s 76ms/step - loss: 0.1122 - dsc: 0.8878 - tp: 0.8900 - tn: 0.9974 - prec: 0.8712 - recall: 0.9073\n",
      "Epoch 9/10\n",
      "119/119 [==============================] - 9s 78ms/step - loss: 0.1079 - dsc: 0.8921 - tp: 0.8929 - tn: 0.9975 - prec: 0.8741 - recall: 0.9124\n",
      "Epoch 10/10\n",
      "119/119 [==============================] - 9s 75ms/step - loss: 0.1071 - dsc: 0.8929 - tp: 0.8927 - tn: 0.9976 - prec: 0.8743 - recall: 0.9144\n"
     ]
    },
    {
     "data": {
      "text/plain": "<keras.callbacks.History at 0x213c8654880>"
     },
     "execution_count": 35,
     "metadata": {},
     "output_type": "execute_result"
    }
   ],
   "source": [
    "model.fit(X, y, epochs=10, batch_size=10)"
   ],
   "metadata": {
    "collapsed": false,
    "ExecuteTime": {
     "end_time": "2024-03-13T14:50:05.582736Z",
     "start_time": "2024-03-13T14:48:34.564856Z"
    }
   },
   "id": "9fe87034e1c0b512",
   "execution_count": 35
  },
  {
   "cell_type": "code",
   "outputs": [
    {
     "name": "stdout",
     "output_type": "stream",
     "text": [
      "Getting and resizing images ... \n"
     ]
    },
    {
     "data": {
      "text/plain": "  0%|          | 0/40 [00:00<?, ?it/s]",
      "application/vnd.jupyter.widget-view+json": {
       "version_major": 2,
       "version_minor": 0,
       "model_id": "347529ca24f5441c89f3430ee51bc968"
      }
     },
     "metadata": {},
     "output_type": "display_data"
    },
    {
     "name": "stdout",
     "output_type": "stream",
     "text": [
      "Done!\n"
     ]
    }
   ],
   "source": [
    "test_images, test_masks = get_data('../training_dataset/tianditu/test/', train=True)"
   ],
   "metadata": {
    "collapsed": false,
    "ExecuteTime": {
     "end_time": "2024-03-13T14:50:05.910972Z",
     "start_time": "2024-03-13T14:50:05.583736Z"
    }
   },
   "id": "317efa68cffc86e8",
   "execution_count": 36
  },
  {
   "cell_type": "code",
   "outputs": [
    {
     "name": "stdout",
     "output_type": "stream",
     "text": [
      "2/2 [==============================] - 1s 196ms/step - loss: 0.0804 - dsc: 0.9200 - tp: 0.9336 - tn: 0.9968 - prec: 0.9134 - recall: 0.9271\n"
     ]
    },
    {
     "data": {
      "text/plain": "[0.08039186149835587,\n 0.9199731349945068,\n 0.9335908889770508,\n 0.9967519640922546,\n 0.9134341478347778,\n 0.9271141290664673]"
     },
     "execution_count": 37,
     "metadata": {},
     "output_type": "execute_result"
    }
   ],
   "source": [
    "model.evaluate(test_images, test_masks)"
   ],
   "metadata": {
    "collapsed": false,
    "ExecuteTime": {
     "end_time": "2024-03-13T14:50:07.193132Z",
     "start_time": "2024-03-13T14:50:05.911972Z"
    }
   },
   "id": "e510937fac0fbc9",
   "execution_count": 37
  },
  {
   "cell_type": "code",
   "outputs": [
    {
     "name": "stdout",
     "output_type": "stream",
     "text": [
      "Epoch 1/10\n",
      "119/119 [==============================] - 8s 68ms/step - loss: 0.1029 - dsc: 0.8971 - tp: 0.8959 - tn: 0.9978 - prec: 0.8774 - recall: 0.9195\n",
      "Epoch 2/10\n",
      "119/119 [==============================] - 9s 74ms/step - loss: 0.1004 - dsc: 0.8996 - tp: 0.8977 - tn: 0.9979 - prec: 0.8793 - recall: 0.9225\n",
      "Epoch 3/10\n",
      "119/119 [==============================] - 9s 75ms/step - loss: 0.0976 - dsc: 0.9024 - tp: 0.9022 - tn: 0.9979 - prec: 0.8838 - recall: 0.9234\n",
      "Epoch 4/10\n",
      "119/119 [==============================] - 9s 76ms/step - loss: 0.0967 - dsc: 0.9033 - tp: 0.9001 - tn: 0.9980 - prec: 0.8819 - recall: 0.9271\n",
      "Epoch 5/10\n",
      "119/119 [==============================] - 9s 74ms/step - loss: 0.0962 - dsc: 0.9038 - tp: 0.9022 - tn: 0.9980 - prec: 0.8840 - recall: 0.9258\n",
      "Epoch 6/10\n",
      "119/119 [==============================] - 9s 73ms/step - loss: 0.0957 - dsc: 0.9043 - tp: 0.9013 - tn: 0.9980 - prec: 0.8832 - recall: 0.9281\n",
      "Epoch 7/10\n",
      "119/119 [==============================] - 9s 73ms/step - loss: 0.0928 - dsc: 0.9072 - tp: 0.9030 - tn: 0.9981 - prec: 0.8850 - recall: 0.9318\n",
      "Epoch 8/10\n",
      "119/119 [==============================] - 9s 74ms/step - loss: 0.0962 - dsc: 0.9038 - tp: 0.9014 - tn: 0.9979 - prec: 0.8836 - recall: 0.9265\n",
      "Epoch 9/10\n",
      "119/119 [==============================] - 9s 74ms/step - loss: 0.0926 - dsc: 0.9074 - tp: 0.9047 - tn: 0.9981 - prec: 0.8869 - recall: 0.9307\n",
      "Epoch 10/10\n",
      "119/119 [==============================] - 9s 73ms/step - loss: 0.0893 - dsc: 0.9107 - tp: 0.9067 - tn: 0.9982 - prec: 0.8887 - recall: 0.9352\n"
     ]
    },
    {
     "data": {
      "text/plain": "<keras.callbacks.History at 0x213cf2bd9f0>"
     },
     "execution_count": 38,
     "metadata": {},
     "output_type": "execute_result"
    }
   ],
   "source": [
    "model.fit(X, y, epochs=10, batch_size=10)"
   ],
   "metadata": {
    "collapsed": false,
    "ExecuteTime": {
     "end_time": "2024-03-13T14:51:34.821912Z",
     "start_time": "2024-03-13T14:50:07.194124Z"
    }
   },
   "id": "59b5872299f38ccf",
   "execution_count": 38
  },
  {
   "cell_type": "code",
   "outputs": [
    {
     "name": "stdout",
     "output_type": "stream",
     "text": [
      "2/2 [==============================] - 0s 18ms/step - loss: 0.0816 - dsc: 0.9175 - tp: 0.9546 - tn: 0.9950 - prec: 0.9368 - recall: 0.8997\n"
     ]
    },
    {
     "data": {
      "text/plain": "[0.08158812671899796,\n 0.9175471663475037,\n 0.9545827507972717,\n 0.9950226545333862,\n 0.9367802143096924,\n 0.8997052907943726]"
     },
     "execution_count": 39,
     "metadata": {},
     "output_type": "execute_result"
    }
   ],
   "source": [
    "model.evaluate(test_images, test_masks)"
   ],
   "metadata": {
    "collapsed": false,
    "ExecuteTime": {
     "end_time": "2024-03-13T14:51:34.962465Z",
     "start_time": "2024-03-13T14:51:34.822912Z"
    }
   },
   "id": "e7427f9c26915de3",
   "execution_count": 39
  },
  {
   "cell_type": "code",
   "outputs": [
    {
     "name": "stdout",
     "output_type": "stream",
     "text": [
      "Epoch 1/20\n",
      "119/119 [==============================] - 8s 66ms/step - loss: 0.0793 - dsc: 0.9207 - tp: 0.9163 - tn: 0.9984 - prec: 0.8993 - recall: 0.9439\n",
      "Epoch 2/20\n",
      "119/119 [==============================] - 8s 66ms/step - loss: 0.0793 - dsc: 0.9207 - tp: 0.9161 - tn: 0.9985 - prec: 0.8991 - recall: 0.9442\n",
      "Epoch 3/20\n",
      "119/119 [==============================] - 8s 66ms/step - loss: 0.0763 - dsc: 0.9237 - tp: 0.9198 - tn: 0.9985 - prec: 0.9028 - recall: 0.9462\n",
      "Epoch 4/20\n",
      "119/119 [==============================] - 8s 67ms/step - loss: 0.0766 - dsc: 0.9234 - tp: 0.9189 - tn: 0.9985 - prec: 0.9020 - recall: 0.9468\n",
      "Epoch 5/20\n",
      "119/119 [==============================] - 8s 67ms/step - loss: 0.0778 - dsc: 0.9222 - tp: 0.9183 - tn: 0.9985 - prec: 0.9014 - recall: 0.9447\n",
      "Epoch 6/20\n",
      "119/119 [==============================] - 8s 67ms/step - loss: 0.0767 - dsc: 0.9233 - tp: 0.9202 - tn: 0.9985 - prec: 0.9033 - recall: 0.9450\n",
      "Epoch 7/20\n",
      "119/119 [==============================] - 8s 67ms/step - loss: 0.0796 - dsc: 0.9204 - tp: 0.9140 - tn: 0.9985 - prec: 0.8971 - recall: 0.9460\n",
      "Epoch 8/20\n",
      "119/119 [==============================] - 8s 67ms/step - loss: 0.0754 - dsc: 0.9246 - tp: 0.9206 - tn: 0.9986 - prec: 0.9035 - recall: 0.9474\n",
      "Epoch 9/20\n",
      "119/119 [==============================] - 8s 67ms/step - loss: 0.0728 - dsc: 0.9272 - tp: 0.9240 - tn: 0.9986 - prec: 0.9070 - recall: 0.9490\n",
      "Epoch 10/20\n",
      "119/119 [==============================] - 8s 66ms/step - loss: 0.0749 - dsc: 0.9251 - tp: 0.9209 - tn: 0.9985 - prec: 0.9040 - recall: 0.9480\n",
      "Epoch 11/20\n",
      "119/119 [==============================] - 8s 67ms/step - loss: 0.0734 - dsc: 0.9266 - tp: 0.9237 - tn: 0.9986 - prec: 0.9068 - recall: 0.9480\n",
      "Epoch 12/20\n",
      "119/119 [==============================] - 8s 67ms/step - loss: 0.0750 - dsc: 0.9250 - tp: 0.9212 - tn: 0.9985 - prec: 0.9042 - recall: 0.9475\n",
      "Epoch 13/20\n",
      "119/119 [==============================] - 8s 67ms/step - loss: 0.0740 - dsc: 0.9260 - tp: 0.9227 - tn: 0.9985 - prec: 0.9058 - recall: 0.9478\n",
      "Epoch 14/20\n",
      "119/119 [==============================] - 8s 66ms/step - loss: 0.0724 - dsc: 0.9276 - tp: 0.9251 - tn: 0.9986 - prec: 0.9081 - recall: 0.9486\n",
      "Epoch 15/20\n",
      "119/119 [==============================] - 8s 67ms/step - loss: 0.0764 - dsc: 0.9236 - tp: 0.9190 - tn: 0.9985 - prec: 0.9020 - recall: 0.9473\n",
      "Epoch 16/20\n",
      "119/119 [==============================] - 8s 67ms/step - loss: 0.0875 - dsc: 0.9125 - tp: 0.9103 - tn: 0.9981 - prec: 0.8936 - recall: 0.9335\n",
      "Epoch 17/20\n",
      "119/119 [==============================] - 8s 67ms/step - loss: 0.0789 - dsc: 0.9211 - tp: 0.9198 - tn: 0.9983 - prec: 0.9029 - recall: 0.9409\n",
      "Epoch 18/20\n",
      "119/119 [==============================] - 8s 68ms/step - loss: 0.0754 - dsc: 0.9246 - tp: 0.9227 - tn: 0.9985 - prec: 0.9058 - recall: 0.9449\n",
      "Epoch 19/20\n",
      "119/119 [==============================] - 8s 67ms/step - loss: 0.0730 - dsc: 0.9270 - tp: 0.9229 - tn: 0.9986 - prec: 0.9059 - recall: 0.9495\n",
      "Epoch 20/20\n",
      "119/119 [==============================] - 8s 67ms/step - loss: 0.0719 - dsc: 0.9281 - tp: 0.9240 - tn: 0.9986 - prec: 0.9070 - recall: 0.9507\n"
     ]
    },
    {
     "data": {
      "text/plain": "<keras.callbacks.History at 0x213ad920be0>"
     },
     "execution_count": 43,
     "metadata": {},
     "output_type": "execute_result"
    }
   ],
   "source": [
    "model.fit(X, y, epochs=20, batch_size=10)"
   ],
   "metadata": {
    "collapsed": false,
    "ExecuteTime": {
     "end_time": "2024-03-13T15:00:16.395320Z",
     "start_time": "2024-03-13T14:57:36.977692Z"
    }
   },
   "id": "32a3fd0c187ff896",
   "execution_count": 43
  },
  {
   "cell_type": "code",
   "outputs": [
    {
     "name": "stdout",
     "output_type": "stream",
     "text": [
      "2/2 [==============================] - 0s 31ms/step - loss: 0.0600 - dsc: 0.9419 - tp: 0.9549 - tn: 0.9975 - prec: 0.9382 - recall: 0.9458\n"
     ]
    },
    {
     "data": {
      "text/plain": "[0.06004202365875244,\n 0.9419251680374146,\n 0.9548745155334473,\n 0.9975263476371765,\n 0.9381842017173767,\n 0.9458377957344055]"
     },
     "execution_count": 44,
     "metadata": {},
     "output_type": "execute_result"
    }
   ],
   "source": [
    "model.evaluate(test_images, test_masks)"
   ],
   "metadata": {
    "collapsed": false,
    "ExecuteTime": {
     "end_time": "2024-03-13T15:00:22.585660Z",
     "start_time": "2024-03-13T15:00:22.150884Z"
    }
   },
   "id": "4f4281ac1fb048cf",
   "execution_count": 44
  },
  {
   "cell_type": "code",
   "outputs": [
    {
     "name": "stdout",
     "output_type": "stream",
     "text": [
      "Epoch 1/20\n",
      "119/119 [==============================] - 8s 67ms/step - loss: 0.0720 - dsc: 0.9280 - tp: 0.9256 - tn: 0.9986 - prec: 0.9086 - recall: 0.9488\n",
      "Epoch 2/20\n",
      "119/119 [==============================] - 8s 64ms/step - loss: 0.0732 - dsc: 0.9268 - tp: 0.9248 - tn: 0.9985 - prec: 0.9079 - recall: 0.9471\n",
      "Epoch 3/20\n",
      "119/119 [==============================] - 10s 86ms/step - loss: 0.0747 - dsc: 0.9253 - tp: 0.9225 - tn: 0.9985 - prec: 0.9056 - recall: 0.9468\n",
      "Epoch 4/20\n",
      "119/119 [==============================] - 10s 80ms/step - loss: 0.0725 - dsc: 0.9275 - tp: 0.9244 - tn: 0.9986 - prec: 0.9075 - recall: 0.9490\n",
      "Epoch 5/20\n",
      "119/119 [==============================] - 9s 79ms/step - loss: 0.0708 - dsc: 0.9292 - tp: 0.9268 - tn: 0.9986 - prec: 0.9098 - recall: 0.9500\n",
      "Epoch 6/20\n",
      "119/119 [==============================] - 8s 70ms/step - loss: 0.0724 - dsc: 0.9276 - tp: 0.9239 - tn: 0.9986 - prec: 0.9070 - recall: 0.9497\n",
      "Epoch 7/20\n",
      "119/119 [==============================] - 9s 72ms/step - loss: 0.0713 - dsc: 0.9287 - tp: 0.9271 - tn: 0.9985 - prec: 0.9102 - recall: 0.9485\n",
      "Epoch 8/20\n",
      "119/119 [==============================] - 7s 63ms/step - loss: 0.0724 - dsc: 0.9276 - tp: 0.9254 - tn: 0.9985 - prec: 0.9085 - recall: 0.9482\n",
      "Epoch 9/20\n",
      "119/119 [==============================] - 7s 60ms/step - loss: 0.0707 - dsc: 0.9293 - tp: 0.9275 - tn: 0.9986 - prec: 0.9106 - recall: 0.9493\n",
      "Epoch 10/20\n",
      "119/119 [==============================] - 7s 60ms/step - loss: 0.0703 - dsc: 0.9297 - tp: 0.9277 - tn: 0.9986 - prec: 0.9107 - recall: 0.9499\n",
      "Epoch 11/20\n",
      "119/119 [==============================] - 7s 62ms/step - loss: 0.0734 - dsc: 0.9266 - tp: 0.9235 - tn: 0.9986 - prec: 0.9065 - recall: 0.9482\n",
      "Epoch 12/20\n",
      "119/119 [==============================] - 8s 71ms/step - loss: 0.0728 - dsc: 0.9272 - tp: 0.9244 - tn: 0.9985 - prec: 0.9075 - recall: 0.9482\n",
      "Epoch 13/20\n",
      "119/119 [==============================] - 8s 67ms/step - loss: 0.0762 - dsc: 0.9238 - tp: 0.9204 - tn: 0.9985 - prec: 0.9035 - recall: 0.9455\n",
      "Epoch 14/20\n",
      "119/119 [==============================] - 8s 68ms/step - loss: 0.0725 - dsc: 0.9275 - tp: 0.9243 - tn: 0.9986 - prec: 0.9074 - recall: 0.9492\n",
      "Epoch 15/20\n",
      "119/119 [==============================] - 8s 68ms/step - loss: 0.0716 - dsc: 0.9284 - tp: 0.9272 - tn: 0.9985 - prec: 0.9103 - recall: 0.9477\n",
      "Epoch 16/20\n",
      "119/119 [==============================] - 8s 67ms/step - loss: 0.0734 - dsc: 0.9266 - tp: 0.9248 - tn: 0.9985 - prec: 0.9079 - recall: 0.9467\n",
      "Epoch 17/20\n",
      "119/119 [==============================] - 8s 67ms/step - loss: 0.0729 - dsc: 0.9271 - tp: 0.9242 - tn: 0.9985 - prec: 0.9074 - recall: 0.9482\n",
      "Epoch 18/20\n",
      "119/119 [==============================] - 8s 68ms/step - loss: 0.0702 - dsc: 0.9298 - tp: 0.9277 - tn: 0.9986 - prec: 0.9108 - recall: 0.9500\n",
      "Epoch 19/20\n",
      "119/119 [==============================] - 8s 67ms/step - loss: 0.0732 - dsc: 0.9268 - tp: 0.9239 - tn: 0.9986 - prec: 0.9070 - recall: 0.9485\n",
      "Epoch 20/20\n",
      "119/119 [==============================] - 9s 74ms/step - loss: 0.0712 - dsc: 0.9288 - tp: 0.9252 - tn: 0.9986 - prec: 0.9084 - recall: 0.9507\n"
     ]
    },
    {
     "data": {
      "text/plain": "<keras.callbacks.History at 0x213ad951a20>"
     },
     "execution_count": 45,
     "metadata": {},
     "output_type": "execute_result"
    }
   ],
   "source": [
    "model.fit(X, y, epochs=20, batch_size=10)"
   ],
   "metadata": {
    "collapsed": false,
    "ExecuteTime": {
     "end_time": "2024-03-13T15:04:20.596456Z",
     "start_time": "2024-03-13T15:01:35.693136Z"
    }
   },
   "id": "a576e8f62e93cbe9",
   "execution_count": 45
  },
  {
   "cell_type": "code",
   "outputs": [
    {
     "name": "stdout",
     "output_type": "stream",
     "text": [
      "2/2 [==============================] - 0s 19ms/step - loss: 0.0601 - dsc: 0.9425 - tp: 0.9523 - tn: 0.9977 - prec: 0.9358 - recall: 0.9493\n"
     ]
    },
    {
     "data": {
      "text/plain": "[0.060116805136203766,\n 0.9424740672111511,\n 0.9523423910140991,\n 0.9977133274078369,\n 0.9357820749282837,\n 0.9493266344070435]"
     },
     "execution_count": 46,
     "metadata": {},
     "output_type": "execute_result"
    }
   ],
   "source": [
    "model.evaluate(test_images, test_masks)"
   ],
   "metadata": {
    "collapsed": false,
    "ExecuteTime": {
     "end_time": "2024-03-13T15:04:58.565426Z",
     "start_time": "2024-03-13T15:04:58.104522Z"
    }
   },
   "id": "5fa2196ff7618ac9",
   "execution_count": 46
  },
  {
   "cell_type": "code",
   "outputs": [],
   "source": [
    "model.save('model_T-u-a_d_aspp-fc2d-maproad.h5')"
   ],
   "metadata": {
    "collapsed": false,
    "ExecuteTime": {
     "end_time": "2024-03-13T15:08:31.127679Z",
     "start_time": "2024-03-13T15:08:30.946444Z"
    }
   },
   "id": "bac7244b07bd3c06",
   "execution_count": 48
  }
 ],
 "metadata": {
  "kernelspec": {
   "display_name": "Python 3",
   "language": "python",
   "name": "python3"
  },
  "language_info": {
   "codemirror_mode": {
    "name": "ipython",
    "version": 2
   },
   "file_extension": ".py",
   "mimetype": "text/x-python",
   "name": "python",
   "nbconvert_exporter": "python",
   "pygments_lexer": "ipython2",
   "version": "2.7.6"
  }
 },
 "nbformat": 4,
 "nbformat_minor": 5
}
